{
 "cells": [
  {
   "cell_type": "markdown",
   "id": "ff6bf8ea-95ec-4c9f-a847-ef44834a0885",
   "metadata": {},
   "source": [
    "## Sigmoid function\n",
    "\n",
    "- Use for the binary classification ."
   ]
  },
  {
   "cell_type": "code",
   "execution_count": 8,
   "id": "37c0daf3-4bdb-4661-8f85-10c5be80a55a",
   "metadata": {},
   "outputs": [
    {
     "name": "stdout",
     "output_type": "stream",
     "text": [
      "13 ---> 0.999997739675702\n",
      "3 ---> 0.9525741268224334\n",
      "-12 ---> 6.144174602214718e-06\n"
     ]
    }
   ],
   "source": [
    "import numpy as np\n",
    "\n",
    "#sigmoid activation function\n",
    "def sigmoid(x) : \n",
    "    return 1.0 / (1.0+np.exp(-x))\n",
    "\n",
    "inputs = [ 13,3,-12]\n",
    "\n",
    "for x in inputs : \n",
    "    print(x,'--->',sigmoid(x))\n",
    "\n",
    "# values are between the 0 and 1"
   ]
  },
  {
   "cell_type": "markdown",
   "id": "607ddaf6-b964-4080-a277-a28f12615a2c",
   "metadata": {},
   "source": [
    "## TanH function \n",
    "- use for hidden layers in ANNs\n",
    "  "
   ]
  },
  {
   "cell_type": "code",
   "execution_count": 15,
   "id": "8264b903-b0eb-4430-ab15-6370cbb901c3",
   "metadata": {},
   "outputs": [
    {
     "name": "stdout",
     "output_type": "stream",
     "text": [
      "13 ---> 0.9999999999897818\n",
      "3 ---> 0.9950547536867306\n",
      "-12 ---> -0.9999999999244972\n"
     ]
    }
   ],
   "source": [
    "import numpy as np\n",
    "\n",
    "#TanH actiavtion function\n",
    "\n",
    "def TanH(x) : \n",
    "    return ((np.exp(x)-np.exp(-x))/(np.exp(x)+np.exp(-x)))\n",
    "\n",
    "inputs = [ 13,3,-12]\n",
    "\n",
    "for x in inputs : \n",
    "    print(x,'--->',TanH(x))\n",
    "\n",
    "#values are between the -1 and 1 "
   ]
  },
  {
   "cell_type": "markdown",
   "id": "c66f132b-3614-467a-9369-2e8cbd13c0f3",
   "metadata": {},
   "source": [
    "## ReLU activation function "
   ]
  },
  {
   "cell_type": "code",
   "execution_count": 20,
   "id": "392f7eea-a9cb-42df-985f-16b605ea58ec",
   "metadata": {},
   "outputs": [
    {
     "name": "stdout",
     "output_type": "stream",
     "text": [
      "13 ---> 13\n",
      "3 ---> 3\n",
      "-12 ---> 0.0\n"
     ]
    }
   ],
   "source": [
    "def relu(x): \n",
    "    return max(0.0,x)\n",
    "\n",
    "inputs = [ 13,3,-12]\n",
    "\n",
    "for x in inputs : \n",
    "    print(x,'--->',relu(x))\n",
    "\n",
    "\n",
    "#values between the 0 and positive numbers"
   ]
  },
  {
   "cell_type": "markdown",
   "id": "72ca53da-5bbc-4565-9c09-090ab40cd568",
   "metadata": {},
   "source": [
    "## Softmax Function \n",
    "\n",
    "- used for multi classification "
   ]
  },
  {
   "cell_type": "code",
   "execution_count": 27,
   "id": "c367e3b2-4912-4d4e-87aa-9a3112c6c5ca",
   "metadata": {},
   "outputs": [
    {
     "name": "stdout",
     "output_type": "stream",
     "text": [
      "13 ---> 1.0\n",
      "3 ---> 1.0\n",
      "-2 ---> 1.0\n"
     ]
    }
   ],
   "source": [
    "def softmax(x) : \n",
    "    return np.exp(x) / (np.exp(x).sum())\n",
    "\n",
    "inputs = [ 13,3,-2]\n",
    "\n",
    "for x in inputs : \n",
    "    print(x,'--->',softmax(x))"
   ]
  },
  {
   "cell_type": "code",
   "execution_count": null,
   "id": "f7984c1a-bff5-45b2-a493-72e60468d164",
   "metadata": {},
   "outputs": [],
   "source": []
  }
 ],
 "metadata": {
  "kernelspec": {
   "display_name": "Python 3 (ipykernel)",
   "language": "python",
   "name": "python3"
  },
  "language_info": {
   "codemirror_mode": {
    "name": "ipython",
    "version": 3
   },
   "file_extension": ".py",
   "mimetype": "text/x-python",
   "name": "python",
   "nbconvert_exporter": "python",
   "pygments_lexer": "ipython3",
   "version": "3.12.4"
  }
 },
 "nbformat": 4,
 "nbformat_minor": 5
}
