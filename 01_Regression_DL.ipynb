{
  "nbformat": 4,
  "nbformat_minor": 0,
  "metadata": {
    "colab": {
      "provenance": [],
      "authorship_tag": "ABX9TyMNVViAX5ydE0rYYQBfGQvD",
      "include_colab_link": true
    },
    "kernelspec": {
      "name": "python3",
      "display_name": "Python 3"
    },
    "language_info": {
      "name": "python"
    }
  },
  "cells": [
    {
      "cell_type": "markdown",
      "metadata": {
        "id": "view-in-github",
        "colab_type": "text"
      },
      "source": [
        "<a href=\"https://colab.research.google.com/github/SehanArandara/DL-Codepro/blob/main/01_Regression_DL.ipynb\" target=\"_parent\"><img src=\"https://colab.research.google.com/assets/colab-badge.svg\" alt=\"Open In Colab\"/></a>"
      ]
    },
    {
      "cell_type": "code",
      "execution_count": null,
      "metadata": {
        "colab": {
          "base_uri": "https://localhost:8080/"
        },
        "collapsed": true,
        "id": "EMZauIxrKTpJ",
        "outputId": "f06153f8-ef10-4190-c886-335095441c35"
      },
      "outputs": [
        {
          "output_type": "stream",
          "name": "stdout",
          "text": [
            "Collecting opendatasets\n",
            "  Downloading opendatasets-0.1.22-py3-none-any.whl.metadata (9.2 kB)\n",
            "Requirement already satisfied: tqdm in /usr/local/lib/python3.10/dist-packages (from opendatasets) (4.66.5)\n",
            "Requirement already satisfied: kaggle in /usr/local/lib/python3.10/dist-packages (from opendatasets) (1.6.17)\n",
            "Requirement already satisfied: click in /usr/local/lib/python3.10/dist-packages (from opendatasets) (8.1.7)\n",
            "Requirement already satisfied: six>=1.10 in /usr/local/lib/python3.10/dist-packages (from kaggle->opendatasets) (1.16.0)\n",
            "Requirement already satisfied: certifi>=2023.7.22 in /usr/local/lib/python3.10/dist-packages (from kaggle->opendatasets) (2024.8.30)\n",
            "Requirement already satisfied: python-dateutil in /usr/local/lib/python3.10/dist-packages (from kaggle->opendatasets) (2.8.2)\n",
            "Requirement already satisfied: requests in /usr/local/lib/python3.10/dist-packages (from kaggle->opendatasets) (2.32.3)\n",
            "Requirement already satisfied: python-slugify in /usr/local/lib/python3.10/dist-packages (from kaggle->opendatasets) (8.0.4)\n",
            "Requirement already satisfied: urllib3 in /usr/local/lib/python3.10/dist-packages (from kaggle->opendatasets) (2.2.3)\n",
            "Requirement already satisfied: bleach in /usr/local/lib/python3.10/dist-packages (from kaggle->opendatasets) (6.1.0)\n",
            "Requirement already satisfied: webencodings in /usr/local/lib/python3.10/dist-packages (from bleach->kaggle->opendatasets) (0.5.1)\n",
            "Requirement already satisfied: text-unidecode>=1.3 in /usr/local/lib/python3.10/dist-packages (from python-slugify->kaggle->opendatasets) (1.3)\n",
            "Requirement already satisfied: charset-normalizer<4,>=2 in /usr/local/lib/python3.10/dist-packages (from requests->kaggle->opendatasets) (3.3.2)\n",
            "Requirement already satisfied: idna<4,>=2.5 in /usr/local/lib/python3.10/dist-packages (from requests->kaggle->opendatasets) (3.10)\n",
            "Downloading opendatasets-0.1.22-py3-none-any.whl (15 kB)\n",
            "Installing collected packages: opendatasets\n",
            "Successfully installed opendatasets-0.1.22\n"
          ]
        }
      ],
      "source": [
        "!pip install opendatasets     # install the opendatasets library"
      ]
    },
    {
      "cell_type": "code",
      "source": [
        "import pandas as pd\n",
        "import opendatasets as od   # to get the data set from the keggal\n",
        "import tensorflow as tf\n",
        "import matplotlib.pyplot as  plt"
      ],
      "metadata": {
        "id": "HET2KivJPcub"
      },
      "execution_count": null,
      "outputs": []
    },
    {
      "cell_type": "code",
      "source": [
        "od.download('https://www.kaggle.com/datasets/andonians/random-linear-regression')    # donwload the data set and save inside this"
      ],
      "metadata": {
        "colab": {
          "base_uri": "https://localhost:8080/"
        },
        "id": "5GxxkmopP6mb",
        "outputId": "bf546db6-7cfa-43d0-8764-7627585dcc61"
      },
      "execution_count": null,
      "outputs": [
        {
          "output_type": "stream",
          "name": "stdout",
          "text": [
            "Please provide your Kaggle credentials to download this dataset. Learn more: http://bit.ly/kaggle-creds\n",
            "Your Kaggle username: sehanarandara\n",
            "Your Kaggle Key: ··········\n",
            "Dataset URL: https://www.kaggle.com/datasets/andonians/random-linear-regression\n",
            "Downloading random-linear-regression.zip to ./random-linear-regression\n"
          ]
        },
        {
          "output_type": "stream",
          "name": "stderr",
          "text": [
            "100%|██████████| 7.63k/7.63k [00:00<00:00, 10.1MB/s]"
          ]
        },
        {
          "output_type": "stream",
          "name": "stdout",
          "text": [
            "\n"
          ]
        },
        {
          "output_type": "stream",
          "name": "stderr",
          "text": [
            "\n"
          ]
        }
      ]
    },
    {
      "cell_type": "code",
      "source": [
        "data  = pd.read_csv('/content/random-linear-regression/test.csv')\n",
        "data.head()"
      ],
      "metadata": {
        "colab": {
          "base_uri": "https://localhost:8080/",
          "height": 206
        },
        "id": "ENvy_fsvQa0e",
        "outputId": "20f348dd-9a98-4a70-ad38-191765d12420"
      },
      "execution_count": null,
      "outputs": [
        {
          "output_type": "execute_result",
          "data": {
            "text/plain": [
              "    x          y\n",
              "0  77  79.775152\n",
              "1  21  23.177279\n",
              "2  22  25.609262\n",
              "3  20  17.857388\n",
              "4  36  41.849864"
            ],
            "text/html": [
              "\n",
              "  <div id=\"df-4453df5e-e937-4f5b-abd9-5a5df33a15a0\" class=\"colab-df-container\">\n",
              "    <div>\n",
              "<style scoped>\n",
              "    .dataframe tbody tr th:only-of-type {\n",
              "        vertical-align: middle;\n",
              "    }\n",
              "\n",
              "    .dataframe tbody tr th {\n",
              "        vertical-align: top;\n",
              "    }\n",
              "\n",
              "    .dataframe thead th {\n",
              "        text-align: right;\n",
              "    }\n",
              "</style>\n",
              "<table border=\"1\" class=\"dataframe\">\n",
              "  <thead>\n",
              "    <tr style=\"text-align: right;\">\n",
              "      <th></th>\n",
              "      <th>x</th>\n",
              "      <th>y</th>\n",
              "    </tr>\n",
              "  </thead>\n",
              "  <tbody>\n",
              "    <tr>\n",
              "      <th>0</th>\n",
              "      <td>77</td>\n",
              "      <td>79.775152</td>\n",
              "    </tr>\n",
              "    <tr>\n",
              "      <th>1</th>\n",
              "      <td>21</td>\n",
              "      <td>23.177279</td>\n",
              "    </tr>\n",
              "    <tr>\n",
              "      <th>2</th>\n",
              "      <td>22</td>\n",
              "      <td>25.609262</td>\n",
              "    </tr>\n",
              "    <tr>\n",
              "      <th>3</th>\n",
              "      <td>20</td>\n",
              "      <td>17.857388</td>\n",
              "    </tr>\n",
              "    <tr>\n",
              "      <th>4</th>\n",
              "      <td>36</td>\n",
              "      <td>41.849864</td>\n",
              "    </tr>\n",
              "  </tbody>\n",
              "</table>\n",
              "</div>\n",
              "    <div class=\"colab-df-buttons\">\n",
              "\n",
              "  <div class=\"colab-df-container\">\n",
              "    <button class=\"colab-df-convert\" onclick=\"convertToInteractive('df-4453df5e-e937-4f5b-abd9-5a5df33a15a0')\"\n",
              "            title=\"Convert this dataframe to an interactive table.\"\n",
              "            style=\"display:none;\">\n",
              "\n",
              "  <svg xmlns=\"http://www.w3.org/2000/svg\" height=\"24px\" viewBox=\"0 -960 960 960\">\n",
              "    <path d=\"M120-120v-720h720v720H120Zm60-500h600v-160H180v160Zm220 220h160v-160H400v160Zm0 220h160v-160H400v160ZM180-400h160v-160H180v160Zm440 0h160v-160H620v160ZM180-180h160v-160H180v160Zm440 0h160v-160H620v160Z\"/>\n",
              "  </svg>\n",
              "    </button>\n",
              "\n",
              "  <style>\n",
              "    .colab-df-container {\n",
              "      display:flex;\n",
              "      gap: 12px;\n",
              "    }\n",
              "\n",
              "    .colab-df-convert {\n",
              "      background-color: #E8F0FE;\n",
              "      border: none;\n",
              "      border-radius: 50%;\n",
              "      cursor: pointer;\n",
              "      display: none;\n",
              "      fill: #1967D2;\n",
              "      height: 32px;\n",
              "      padding: 0 0 0 0;\n",
              "      width: 32px;\n",
              "    }\n",
              "\n",
              "    .colab-df-convert:hover {\n",
              "      background-color: #E2EBFA;\n",
              "      box-shadow: 0px 1px 2px rgba(60, 64, 67, 0.3), 0px 1px 3px 1px rgba(60, 64, 67, 0.15);\n",
              "      fill: #174EA6;\n",
              "    }\n",
              "\n",
              "    .colab-df-buttons div {\n",
              "      margin-bottom: 4px;\n",
              "    }\n",
              "\n",
              "    [theme=dark] .colab-df-convert {\n",
              "      background-color: #3B4455;\n",
              "      fill: #D2E3FC;\n",
              "    }\n",
              "\n",
              "    [theme=dark] .colab-df-convert:hover {\n",
              "      background-color: #434B5C;\n",
              "      box-shadow: 0px 1px 3px 1px rgba(0, 0, 0, 0.15);\n",
              "      filter: drop-shadow(0px 1px 2px rgba(0, 0, 0, 0.3));\n",
              "      fill: #FFFFFF;\n",
              "    }\n",
              "  </style>\n",
              "\n",
              "    <script>\n",
              "      const buttonEl =\n",
              "        document.querySelector('#df-4453df5e-e937-4f5b-abd9-5a5df33a15a0 button.colab-df-convert');\n",
              "      buttonEl.style.display =\n",
              "        google.colab.kernel.accessAllowed ? 'block' : 'none';\n",
              "\n",
              "      async function convertToInteractive(key) {\n",
              "        const element = document.querySelector('#df-4453df5e-e937-4f5b-abd9-5a5df33a15a0');\n",
              "        const dataTable =\n",
              "          await google.colab.kernel.invokeFunction('convertToInteractive',\n",
              "                                                    [key], {});\n",
              "        if (!dataTable) return;\n",
              "\n",
              "        const docLinkHtml = 'Like what you see? Visit the ' +\n",
              "          '<a target=\"_blank\" href=https://colab.research.google.com/notebooks/data_table.ipynb>data table notebook</a>'\n",
              "          + ' to learn more about interactive tables.';\n",
              "        element.innerHTML = '';\n",
              "        dataTable['output_type'] = 'display_data';\n",
              "        await google.colab.output.renderOutput(dataTable, element);\n",
              "        const docLink = document.createElement('div');\n",
              "        docLink.innerHTML = docLinkHtml;\n",
              "        element.appendChild(docLink);\n",
              "      }\n",
              "    </script>\n",
              "  </div>\n",
              "\n",
              "\n",
              "<div id=\"df-3577f9ae-b823-42fc-8fc3-ac0849634d00\">\n",
              "  <button class=\"colab-df-quickchart\" onclick=\"quickchart('df-3577f9ae-b823-42fc-8fc3-ac0849634d00')\"\n",
              "            title=\"Suggest charts\"\n",
              "            style=\"display:none;\">\n",
              "\n",
              "<svg xmlns=\"http://www.w3.org/2000/svg\" height=\"24px\"viewBox=\"0 0 24 24\"\n",
              "     width=\"24px\">\n",
              "    <g>\n",
              "        <path d=\"M19 3H5c-1.1 0-2 .9-2 2v14c0 1.1.9 2 2 2h14c1.1 0 2-.9 2-2V5c0-1.1-.9-2-2-2zM9 17H7v-7h2v7zm4 0h-2V7h2v10zm4 0h-2v-4h2v4z\"/>\n",
              "    </g>\n",
              "</svg>\n",
              "  </button>\n",
              "\n",
              "<style>\n",
              "  .colab-df-quickchart {\n",
              "      --bg-color: #E8F0FE;\n",
              "      --fill-color: #1967D2;\n",
              "      --hover-bg-color: #E2EBFA;\n",
              "      --hover-fill-color: #174EA6;\n",
              "      --disabled-fill-color: #AAA;\n",
              "      --disabled-bg-color: #DDD;\n",
              "  }\n",
              "\n",
              "  [theme=dark] .colab-df-quickchart {\n",
              "      --bg-color: #3B4455;\n",
              "      --fill-color: #D2E3FC;\n",
              "      --hover-bg-color: #434B5C;\n",
              "      --hover-fill-color: #FFFFFF;\n",
              "      --disabled-bg-color: #3B4455;\n",
              "      --disabled-fill-color: #666;\n",
              "  }\n",
              "\n",
              "  .colab-df-quickchart {\n",
              "    background-color: var(--bg-color);\n",
              "    border: none;\n",
              "    border-radius: 50%;\n",
              "    cursor: pointer;\n",
              "    display: none;\n",
              "    fill: var(--fill-color);\n",
              "    height: 32px;\n",
              "    padding: 0;\n",
              "    width: 32px;\n",
              "  }\n",
              "\n",
              "  .colab-df-quickchart:hover {\n",
              "    background-color: var(--hover-bg-color);\n",
              "    box-shadow: 0 1px 2px rgba(60, 64, 67, 0.3), 0 1px 3px 1px rgba(60, 64, 67, 0.15);\n",
              "    fill: var(--button-hover-fill-color);\n",
              "  }\n",
              "\n",
              "  .colab-df-quickchart-complete:disabled,\n",
              "  .colab-df-quickchart-complete:disabled:hover {\n",
              "    background-color: var(--disabled-bg-color);\n",
              "    fill: var(--disabled-fill-color);\n",
              "    box-shadow: none;\n",
              "  }\n",
              "\n",
              "  .colab-df-spinner {\n",
              "    border: 2px solid var(--fill-color);\n",
              "    border-color: transparent;\n",
              "    border-bottom-color: var(--fill-color);\n",
              "    animation:\n",
              "      spin 1s steps(1) infinite;\n",
              "  }\n",
              "\n",
              "  @keyframes spin {\n",
              "    0% {\n",
              "      border-color: transparent;\n",
              "      border-bottom-color: var(--fill-color);\n",
              "      border-left-color: var(--fill-color);\n",
              "    }\n",
              "    20% {\n",
              "      border-color: transparent;\n",
              "      border-left-color: var(--fill-color);\n",
              "      border-top-color: var(--fill-color);\n",
              "    }\n",
              "    30% {\n",
              "      border-color: transparent;\n",
              "      border-left-color: var(--fill-color);\n",
              "      border-top-color: var(--fill-color);\n",
              "      border-right-color: var(--fill-color);\n",
              "    }\n",
              "    40% {\n",
              "      border-color: transparent;\n",
              "      border-right-color: var(--fill-color);\n",
              "      border-top-color: var(--fill-color);\n",
              "    }\n",
              "    60% {\n",
              "      border-color: transparent;\n",
              "      border-right-color: var(--fill-color);\n",
              "    }\n",
              "    80% {\n",
              "      border-color: transparent;\n",
              "      border-right-color: var(--fill-color);\n",
              "      border-bottom-color: var(--fill-color);\n",
              "    }\n",
              "    90% {\n",
              "      border-color: transparent;\n",
              "      border-bottom-color: var(--fill-color);\n",
              "    }\n",
              "  }\n",
              "</style>\n",
              "\n",
              "  <script>\n",
              "    async function quickchart(key) {\n",
              "      const quickchartButtonEl =\n",
              "        document.querySelector('#' + key + ' button');\n",
              "      quickchartButtonEl.disabled = true;  // To prevent multiple clicks.\n",
              "      quickchartButtonEl.classList.add('colab-df-spinner');\n",
              "      try {\n",
              "        const charts = await google.colab.kernel.invokeFunction(\n",
              "            'suggestCharts', [key], {});\n",
              "      } catch (error) {\n",
              "        console.error('Error during call to suggestCharts:', error);\n",
              "      }\n",
              "      quickchartButtonEl.classList.remove('colab-df-spinner');\n",
              "      quickchartButtonEl.classList.add('colab-df-quickchart-complete');\n",
              "    }\n",
              "    (() => {\n",
              "      let quickchartButtonEl =\n",
              "        document.querySelector('#df-3577f9ae-b823-42fc-8fc3-ac0849634d00 button');\n",
              "      quickchartButtonEl.style.display =\n",
              "        google.colab.kernel.accessAllowed ? 'block' : 'none';\n",
              "    })();\n",
              "  </script>\n",
              "</div>\n",
              "\n",
              "    </div>\n",
              "  </div>\n"
            ],
            "application/vnd.google.colaboratory.intrinsic+json": {
              "type": "dataframe",
              "variable_name": "data",
              "summary": "{\n  \"name\": \"data\",\n  \"rows\": 300,\n  \"fields\": [\n    {\n      \"column\": \"x\",\n      \"properties\": {\n        \"dtype\": \"number\",\n        \"std\": 28,\n        \"min\": 0,\n        \"max\": 100,\n        \"num_unique_values\": 97,\n        \"samples\": [\n          38,\n          88,\n          6\n        ],\n        \"semantic_type\": \"\",\n        \"description\": \"\"\n      }\n    },\n    {\n      \"column\": \"y\",\n      \"properties\": {\n        \"dtype\": \"number\",\n        \"std\": 29.071480855972098,\n        \"min\": -3.467883789,\n        \"max\": 105.5918375,\n        \"num_unique_values\": 300,\n        \"samples\": [\n          92.88772282,\n          79.50341495,\n          97.00148372\n        ],\n        \"semantic_type\": \"\",\n        \"description\": \"\"\n      }\n    }\n  ]\n}"
            }
          },
          "metadata": {},
          "execution_count": 5
        }
      ]
    },
    {
      "cell_type": "code",
      "source": [
        "data.shape"
      ],
      "metadata": {
        "colab": {
          "base_uri": "https://localhost:8080/"
        },
        "id": "vAkn7XrwQ2a_",
        "outputId": "09e306ce-7e34-4935-e7b6-9a305d8fa453"
      },
      "execution_count": null,
      "outputs": [
        {
          "output_type": "execute_result",
          "data": {
            "text/plain": [
              "(300, 2)"
            ]
          },
          "metadata": {},
          "execution_count": 6
        }
      ]
    },
    {
      "cell_type": "code",
      "source": [
        "# divide the label data into input and output label that means the x lable and y label\n",
        "x_label = data['x']\n",
        "y_label = data['y']\n"
      ],
      "metadata": {
        "id": "blabMxJqQ6k9"
      },
      "execution_count": null,
      "outputs": []
    },
    {
      "cell_type": "code",
      "source": [
        "plt.scatter(x_label,y_label)\n",
        "plt.show()"
      ],
      "metadata": {
        "colab": {
          "base_uri": "https://localhost:8080/",
          "height": 430
        },
        "id": "S638J5ciRO2Z",
        "outputId": "a0fc570d-93d5-4cf7-8fcc-d3a9ac83ab45"
      },
      "execution_count": null,
      "outputs": [
        {
          "output_type": "display_data",
          "data": {
            "text/plain": [
              "<Figure size 640x480 with 1 Axes>"
            ],
            "image/png": "[encoded data removed]"
          },
          "metadata": {}
        }
      ]
    },
    {
      "cell_type": "code",
      "source": [
        "# divide the data set into two train and test data\n",
        "from sklearn.model_selection import train_test_split\n",
        "x_train,x_test,y_train,y_test = train_test_split(x_label,y_label,test_size=0.2)"
      ],
      "metadata": {
        "id": "U8zWDyERRaJD"
      },
      "execution_count": null,
      "outputs": []
    },
    {
      "cell_type": "code",
      "source": [
        "# we can see the size of the train and test data set\n",
        "x_train.shape,x_test.shape,y_train.shape,y_test.shape"
      ],
      "metadata": {
        "colab": {
          "base_uri": "https://localhost:8080/"
        },
        "id": "U_30io-yR0wn",
        "outputId": "a0c4318d-6df0-4730-fcf2-212c9df25aae"
      },
      "execution_count": null,
      "outputs": [
        {
          "output_type": "execute_result",
          "data": {
            "text/plain": [
              "((240,), (60,), (240,), (60,))"
            ]
          },
          "metadata": {},
          "execution_count": 10
        }
      ]
    },
    {
      "cell_type": "code",
      "source": [
        "# scatter to show the distribution of the test and train data\n",
        "plt.scatter(x_train,y_train,label='Training data')\n",
        "plt.scatter(x_test,y_test,label='Testing data')\n",
        "plt.legend()\n",
        "plt.show()"
      ],
      "metadata": {
        "colab": {
          "base_uri": "https://localhost:8080/",
          "height": 430
        },
        "id": "yJmz1z45R-PV",
        "outputId": "7ddc9a35-7493-48f1-965c-99f37a36fb8b"
      },
      "execution_count": null,
      "outputs": [
        {
          "output_type": "display_data",
          "data": {
            "text/plain": [
              "<Figure size 640x480 with 1 Axes>"
            ],
            "image/png": "[encoded data removed]"
          },
          "metadata": {}
        }
      ]
    },
    {
      "cell_type": "code",
      "source": [
        "# build up the nueral network Architecture\n",
        "model = tf.keras.Sequential([\n",
        "    tf.keras.layers.Dense(64,input_shape=(1,)),     # hidden layer\n",
        "    tf.keras.layers.Dense(10),\n",
        "    tf.keras.layers.Dense(1),   # output layer\n",
        "])\n",
        "\n",
        "#Compile the modle\n",
        "model.compile(loss=tf.keras.losses.mae,\n",
        "              optimizer=tf.keras.optimizers.Adam(learning_rate=0.02),\n",
        "              metrics=['mae'])\n",
        "\n",
        "# fit the model save it in variable\n",
        "history= model.fit(x_train,y_train,epochs=8)\n"
      ],
      "metadata": {
        "id": "RCmwe_k_SIqR",
        "outputId": "cb66ebab-5ec8-4bc7-a750-1efa311481ac",
        "colab": {
          "base_uri": "https://localhost:8080/"
        }
      },
      "execution_count": null,
      "outputs": [
        {
          "output_type": "stream",
          "name": "stdout",
          "text": [
            "Epoch 1/8\n"
          ]
        },
        {
          "output_type": "stream",
          "name": "stderr",
          "text": [
            "/usr/local/lib/python3.10/dist-packages/keras/src/layers/core/dense.py:87: UserWarning: Do not pass an `input_shape`/`input_dim` argument to a layer. When using Sequential models, prefer using an `Input(shape)` object as the first layer in the model instead.\n",
            "  super().__init__(activity_regularizer=activity_regularizer, **kwargs)\n"
          ]
        },
        {
          "output_type": "stream",
          "name": "stdout",
          "text": [
            "\u001b[1m8/8\u001b[0m \u001b[32m━━━━━━━━━━━━━━━━━━━━\u001b[0m\u001b[37m\u001b[0m \u001b[1m1s\u001b[0m 4ms/step - loss: 30.3870 - mae: 30.3870\n",
            "Epoch 2/8\n",
            "\u001b[1m8/8\u001b[0m \u001b[32m━━━━━━━━━━━━━━━━━━━━\u001b[0m\u001b[37m\u001b[0m \u001b[1m0s\u001b[0m 4ms/step - loss: 15.0718 - mae: 15.0718 \n",
            "Epoch 3/8\n",
            "\u001b[1m8/8\u001b[0m \u001b[32m━━━━━━━━━━━━━━━━━━━━\u001b[0m\u001b[37m\u001b[0m \u001b[1m0s\u001b[0m 3ms/step - loss: 6.1002 - mae: 6.1002  \n",
            "Epoch 4/8\n",
            "\u001b[1m8/8\u001b[0m \u001b[32m━━━━━━━━━━━━━━━━━━━━\u001b[0m\u001b[37m\u001b[0m \u001b[1m0s\u001b[0m 4ms/step - loss: 5.2244 - mae: 5.2244  \n",
            "Epoch 5/8\n",
            "\u001b[1m8/8\u001b[0m \u001b[32m━━━━━━━━━━━━━━━━━━━━\u001b[0m\u001b[37m\u001b[0m \u001b[1m0s\u001b[0m 4ms/step - loss: 2.8442 - mae: 2.8442  \n",
            "Epoch 6/8\n",
            "\u001b[1m8/8\u001b[0m \u001b[32m━━━━━━━━━━━━━━━━━━━━\u001b[0m\u001b[37m\u001b[0m \u001b[1m0s\u001b[0m 3ms/step - loss: 2.9556 - mae: 2.9556  \n",
            "Epoch 7/8\n",
            "\u001b[1m8/8\u001b[0m \u001b[32m━━━━━━━━━━━━━━━━━━━━\u001b[0m\u001b[37m\u001b[0m \u001b[1m0s\u001b[0m 6ms/step - loss: 2.6929 - mae: 2.6929  \n",
            "Epoch 8/8\n",
            "\u001b[1m8/8\u001b[0m \u001b[32m━━━━━━━━━━━━━━━━━━━━\u001b[0m\u001b[37m\u001b[0m \u001b[1m0s\u001b[0m 5ms/step - loss: 2.5706 - mae: 2.5706 \n"
          ]
        }
      ]
    },
    {
      "cell_type": "code",
      "source": [
        "# model summary\n",
        "model.summary()"
      ],
      "metadata": {
        "id": "6laeC-ul9364",
        "outputId": "3ab6eaec-d2e2-4809-fc5e-f4cfaddff50f",
        "colab": {
          "base_uri": "https://localhost:8080/",
          "height": 241
        }
      },
      "execution_count": null,
      "outputs": [
        {
          "output_type": "display_data",
          "data": {
            "text/plain": [
              "\u001b[1mModel: \"sequential_10\"\u001b[0m\n"
            ],
            "text/html": [
              "<pre style=\"white-space:pre;overflow-x:auto;line-height:normal;font-family:Menlo,'DejaVu Sans Mono',consolas,'Courier New',monospace\"><span style=\"font-weight: bold\">Model: \"sequential_10\"</span>\n",
              "</pre>\n"
            ]
          },
          "metadata": {}
        },
        {
          "output_type": "display_data",
          "data": {
            "text/plain": [
              "┏━━━━━━━━━━━━━━━━━━━━━━━━━━━━━━━━━━━━━━┳━━━━━━━━━━━━━━━━━━━━━━━━━━━━━┳━━━━━━━━━━━━━━━━━┓\n",
              "┃\u001b[1m \u001b[0m\u001b[1mLayer (type)                        \u001b[0m\u001b[1m \u001b[0m┃\u001b[1m \u001b[0m\u001b[1mOutput Shape               \u001b[0m\u001b[1m \u001b[0m┃\u001b[1m \u001b[0m\u001b[1m        Param #\u001b[0m\u001b[1m \u001b[0m┃\n",
              "┡━━━━━━━━━━━━━━━━━━━━━━━━━━━━━━━━━━━━━━╇━━━━━━━━━━━━━━━━━━━━━━━━━━━━━╇━━━━━━━━━━━━━━━━━┩\n",
              "│ dense_34 (\u001b[38;5;33mDense\u001b[0m)                     │ (\u001b[38;5;45mNone\u001b[0m, \u001b[38;5;34m64\u001b[0m)                  │             \u001b[38;5;34m128\u001b[0m │\n",
              "├──────────────────────────────────────┼─────────────────────────────┼─────────────────┤\n",
              "│ dense_35 (\u001b[38;5;33mDense\u001b[0m)                     │ (\u001b[38;5;45mNone\u001b[0m, \u001b[38;5;34m10\u001b[0m)                  │             \u001b[38;5;34m650\u001b[0m │\n",
              "├──────────────────────────────────────┼─────────────────────────────┼─────────────────┤\n",
              "│ dense_36 (\u001b[38;5;33mDense\u001b[0m)                     │ (\u001b[38;5;45mNone\u001b[0m, \u001b[38;5;34m1\u001b[0m)                   │              \u001b[38;5;34m11\u001b[0m │\n",
              "└──────────────────────────────────────┴─────────────────────────────┴─────────────────┘\n"
            ],
            "text/html": [
              "<pre style=\"white-space:pre;overflow-x:auto;line-height:normal;font-family:Menlo,'DejaVu Sans Mono',consolas,'Courier New',monospace\">┏━━━━━━━━━━━━━━━━━━━━━━━━━━━━━━━━━━━━━━┳━━━━━━━━━━━━━━━━━━━━━━━━━━━━━┳━━━━━━━━━━━━━━━━━┓\n",
              "┃<span style=\"font-weight: bold\"> Layer (type)                         </span>┃<span style=\"font-weight: bold\"> Output Shape                </span>┃<span style=\"font-weight: bold\">         Param # </span>┃\n",
              "┡━━━━━━━━━━━━━━━━━━━━━━━━━━━━━━━━━━━━━━╇━━━━━━━━━━━━━━━━━━━━━━━━━━━━━╇━━━━━━━━━━━━━━━━━┩\n",
              "│ dense_34 (<span style=\"color: #0087ff; text-decoration-color: #0087ff\">Dense</span>)                     │ (<span style=\"color: #00d7ff; text-decoration-color: #00d7ff\">None</span>, <span style=\"color: #00af00; text-decoration-color: #00af00\">64</span>)                  │             <span style=\"color: #00af00; text-decoration-color: #00af00\">128</span> │\n",
              "├──────────────────────────────────────┼─────────────────────────────┼─────────────────┤\n",
              "│ dense_35 (<span style=\"color: #0087ff; text-decoration-color: #0087ff\">Dense</span>)                     │ (<span style=\"color: #00d7ff; text-decoration-color: #00d7ff\">None</span>, <span style=\"color: #00af00; text-decoration-color: #00af00\">10</span>)                  │             <span style=\"color: #00af00; text-decoration-color: #00af00\">650</span> │\n",
              "├──────────────────────────────────────┼─────────────────────────────┼─────────────────┤\n",
              "│ dense_36 (<span style=\"color: #0087ff; text-decoration-color: #0087ff\">Dense</span>)                     │ (<span style=\"color: #00d7ff; text-decoration-color: #00d7ff\">None</span>, <span style=\"color: #00af00; text-decoration-color: #00af00\">1</span>)                   │              <span style=\"color: #00af00; text-decoration-color: #00af00\">11</span> │\n",
              "└──────────────────────────────────────┴─────────────────────────────┴─────────────────┘\n",
              "</pre>\n"
            ]
          },
          "metadata": {}
        },
        {
          "output_type": "display_data",
          "data": {
            "text/plain": [
              "\u001b[1m Total params: \u001b[0m\u001b[38;5;34m2,369\u001b[0m (9.26 KB)\n"
            ],
            "text/html": [
              "<pre style=\"white-space:pre;overflow-x:auto;line-height:normal;font-family:Menlo,'DejaVu Sans Mono',consolas,'Courier New',monospace\"><span style=\"font-weight: bold\"> Total params: </span><span style=\"color: #00af00; text-decoration-color: #00af00\">2,369</span> (9.26 KB)\n",
              "</pre>\n"
            ]
          },
          "metadata": {}
        },
        {
          "output_type": "display_data",
          "data": {
            "text/plain": [
              "\u001b[1m Trainable params: \u001b[0m\u001b[38;5;34m789\u001b[0m (3.08 KB)\n"
            ],
            "text/html": [
              "<pre style=\"white-space:pre;overflow-x:auto;line-height:normal;font-family:Menlo,'DejaVu Sans Mono',consolas,'Courier New',monospace\"><span style=\"font-weight: bold\"> Trainable params: </span><span style=\"color: #00af00; text-decoration-color: #00af00\">789</span> (3.08 KB)\n",
              "</pre>\n"
            ]
          },
          "metadata": {}
        },
        {
          "output_type": "display_data",
          "data": {
            "text/plain": [
              "\u001b[1m Non-trainable params: \u001b[0m\u001b[38;5;34m0\u001b[0m (0.00 B)\n"
            ],
            "text/html": [
              "<pre style=\"white-space:pre;overflow-x:auto;line-height:normal;font-family:Menlo,'DejaVu Sans Mono',consolas,'Courier New',monospace\"><span style=\"font-weight: bold\"> Non-trainable params: </span><span style=\"color: #00af00; text-decoration-color: #00af00\">0</span> (0.00 B)\n",
              "</pre>\n"
            ]
          },
          "metadata": {}
        },
        {
          "output_type": "display_data",
          "data": {
            "text/plain": [
              "\u001b[1m Optimizer params: \u001b[0m\u001b[38;5;34m1,580\u001b[0m (6.18 KB)\n"
            ],
            "text/html": [
              "<pre style=\"white-space:pre;overflow-x:auto;line-height:normal;font-family:Menlo,'DejaVu Sans Mono',consolas,'Courier New',monospace\"><span style=\"font-weight: bold\"> Optimizer params: </span><span style=\"color: #00af00; text-decoration-color: #00af00\">1,580</span> (6.18 KB)\n",
              "</pre>\n"
            ]
          },
          "metadata": {}
        }
      ]
    },
    {
      "cell_type": "code",
      "source": [
        "# predict the test values\n",
        "y_predicted = model.predict(x_test)\n",
        "y_predicted[:5]"
      ],
      "metadata": {
        "id": "x27lF-xD-By2",
        "outputId": "38e7d2f7-bb83-45cb-8bc9-761aa4862b3d",
        "colab": {
          "base_uri": "https://localhost:8080/"
        }
      },
      "execution_count": null,
      "outputs": [
        {
          "output_type": "stream",
          "name": "stdout",
          "text": [
            "\u001b[1m2/2\u001b[0m \u001b[32m━━━━━━━━━━━━━━━━━━━━\u001b[0m\u001b[37m\u001b[0m \u001b[1m0s\u001b[0m 38ms/step\n"
          ]
        },
        {
          "output_type": "execute_result",
          "data": {
            "text/plain": [
              "array([[23.371048 ],\n",
              "       [ 3.7107728],\n",
              "       [80.38584  ],\n",
              "       [59.742554 ],\n",
              "       [52.86146  ]], dtype=float32)"
            ]
          },
          "metadata": {},
          "execution_count": 62
        }
      ]
    },
    {
      "cell_type": "code",
      "source": [
        "y_test[:5]"
      ],
      "metadata": {
        "id": "_nHmE3vH-I_L",
        "outputId": "071b0f50-f64f-469a-a544-14bc92290156",
        "colab": {
          "base_uri": "https://localhost:8080/",
          "height": 241
        }
      },
      "execution_count": null,
      "outputs": [
        {
          "output_type": "execute_result",
          "data": {
            "text/plain": [
              "115    25.634763\n",
              "185     6.079390\n",
              "101    88.544759\n",
              "289    59.129130\n",
              "186    59.072472\n",
              "Name: y, dtype: float64"
            ],
            "text/html": [
              "<div>\n",
              "<style scoped>\n",
              "    .dataframe tbody tr th:only-of-type {\n",
              "        vertical-align: middle;\n",
              "    }\n",
              "\n",
              "    .dataframe tbody tr th {\n",
              "        vertical-align: top;\n",
              "    }\n",
              "\n",
              "    .dataframe thead th {\n",
              "        text-align: right;\n",
              "    }\n",
              "</style>\n",
              "<table border=\"1\" class=\"dataframe\">\n",
              "  <thead>\n",
              "    <tr style=\"text-align: right;\">\n",
              "      <th></th>\n",
              "      <th>y</th>\n",
              "    </tr>\n",
              "  </thead>\n",
              "  <tbody>\n",
              "    <tr>\n",
              "      <th>115</th>\n",
              "      <td>25.634763</td>\n",
              "    </tr>\n",
              "    <tr>\n",
              "      <th>185</th>\n",
              "      <td>6.079390</td>\n",
              "    </tr>\n",
              "    <tr>\n",
              "      <th>101</th>\n",
              "      <td>88.544759</td>\n",
              "    </tr>\n",
              "    <tr>\n",
              "      <th>289</th>\n",
              "      <td>59.129130</td>\n",
              "    </tr>\n",
              "    <tr>\n",
              "      <th>186</th>\n",
              "      <td>59.072472</td>\n",
              "    </tr>\n",
              "  </tbody>\n",
              "</table>\n",
              "</div><br><label><b>dtype:</b> float64</label>"
            ]
          },
          "metadata": {},
          "execution_count": 63
        }
      ]
    },
    {
      "cell_type": "code",
      "source": [
        "# plt.scatter(x_train,y_train,label='Training data')\n",
        "plt.scatter(x_test,y_test,label='Testing data')\n",
        "plt.scatter(x_test,y_predicted,label='Prediction')     # best outfit line\n",
        "plt.legend()\n",
        "plt.show()"
      ],
      "metadata": {
        "id": "_0FnKL4d-nEy",
        "outputId": "72131d75-60f9-4214-84ff-32ef0ad18537",
        "colab": {
          "base_uri": "https://localhost:8080/",
          "height": 430
        }
      },
      "execution_count": null,
      "outputs": [
        {
          "output_type": "display_data",
          "data": {
            "text/plain": [
              "<Figure size 640x480 with 1 Axes>"
            ],
            "image/png": "[encoded data removed]"
          },
          "metadata": {}
        }
      ]
    },
    {
      "cell_type": "code",
      "source": [
        "# model evaluation\n",
        "model.evaluate(x_test,y_test)         # return the Perfermance error   -> Means absolute error - we defined it in the model"
      ],
      "metadata": {
        "id": "2u874BEA-1qj",
        "outputId": "e7a81d47-d494-4399-afd1-73072a91add0",
        "colab": {
          "base_uri": "https://localhost:8080/"
        }
      },
      "execution_count": null,
      "outputs": [
        {
          "output_type": "stream",
          "name": "stdout",
          "text": [
            "\u001b[1m2/2\u001b[0m \u001b[32m━━━━━━━━━━━━━━━━━━━━\u001b[0m\u001b[37m\u001b[0m \u001b[1m0s\u001b[0m 7ms/step - loss: 2.7002 - mae: 2.7002  \n"
          ]
        },
        {
          "output_type": "execute_result",
          "data": {
            "text/plain": [
              "[2.7369298934936523, 2.7369298934936523]"
            ]
          },
          "metadata": {},
          "execution_count": 65
        }
      ]
    },
    {
      "cell_type": "code",
      "source": [
        "# Mean Absolute error\n",
        "from sklearn.metrics import mean_absolute_error\n",
        "mean_absolute_error(y_test,y_predicted)"
      ],
      "metadata": {
        "id": "YR2NpWSo_bR8",
        "outputId": "0d561421-348e-49c1-8dc7-2a3c930bbd58",
        "colab": {
          "base_uri": "https://localhost:8080/"
        }
      },
      "execution_count": null,
      "outputs": [
        {
          "output_type": "execute_result",
          "data": {
            "text/plain": [
              "2.7369299358861654"
            ]
          },
          "metadata": {},
          "execution_count": 66
        }
      ]
    },
    {
      "cell_type": "code",
      "source": [
        "# Mean Squarred Error\n",
        "from sklearn.metrics import mean_squared_error\n",
        "mean_squared_error(y_test,y_predicted)"
      ],
      "metadata": {
        "id": "oIwORo0__oYj",
        "outputId": "215138ac-218e-4cfa-9d04-480f833c7190",
        "colab": {
          "base_uri": "https://localhost:8080/"
        }
      },
      "execution_count": null,
      "outputs": [
        {
          "output_type": "execute_result",
          "data": {
            "text/plain": [
              "11.689498790409276"
            ]
          },
          "metadata": {},
          "execution_count": 67
        }
      ]
    },
    {
      "cell_type": "code",
      "source": [
        "# bias and weights values of the model\n",
        "model.get_weights()\n"
      ],
      "metadata": {
        "collapsed": true,
        "id": "vPh93zZd_sT9",
        "outputId": "e086c071-a2f2-4dd2-ab5b-c7e73d9a7cfc",
        "colab": {
          "base_uri": "https://localhost:8080/"
        }
      },
      "execution_count": null,
      "outputs": [
        {
          "output_type": "execute_result",
          "data": {
            "text/plain": [
              "[array([[-5.11900932e-02, -2.98307801e-04,  1.78315444e-03,\n",
              "          1.15287881e-02,  1.63635798e-03, -5.10440432e-02,\n",
              "          3.57431471e-02, -4.18176316e-02, -2.96016317e-03,\n",
              "         -1.14876285e-01,  7.64947981e-02,  3.02036643e-01,\n",
              "          1.18294857e-01, -8.83759931e-03, -2.67397970e-01,\n",
              "         -4.40715626e-03, -1.10565580e-01, -1.10582598e-01,\n",
              "         -4.05404810e-03, -4.51447908e-03, -2.01198712e-01,\n",
              "         -3.58105823e-03,  6.70726970e-02, -1.20981736e-03,\n",
              "          2.03439474e-01, -1.44210413e-01, -3.36548686e-03,\n",
              "          1.36435062e-01,  8.22923779e-02, -6.66589825e-04,\n",
              "         -2.72302657e-01,  1.91128284e-01,  1.63259313e-01,\n",
              "          2.15232885e-03, -6.26922073e-03,  1.54811814e-02,\n",
              "          5.09466417e-03, -1.15249744e-02, -1.72249079e-01,\n",
              "          1.65802225e-01, -4.64819511e-03, -2.46632248e-01,\n",
              "         -2.22229078e-01, -2.05526233e-01, -1.66503429e-01,\n",
              "          9.55299214e-02,  2.18677253e-01,  1.61098957e-01,\n",
              "          2.10873852e-03,  8.84508598e-04,  7.60523544e-04,\n",
              "          1.65250618e-02, -2.61205696e-02, -1.70007378e-01,\n",
              "         -1.54355749e-01,  3.93375708e-03, -8.69215131e-02,\n",
              "         -3.56093352e-03,  3.54302377e-02, -1.57478824e-01,\n",
              "          1.60040613e-03, -1.55568623e-03,  1.29374459e-01,\n",
              "          7.35660177e-03]], dtype=float32),\n",
              " array([ 0.04613392, -0.01461369, -0.08865771,  0.09426814,  0.10769604,\n",
              "        -0.01044496, -0.07804442, -0.00133614,  0.16929673,  0.07872416,\n",
              "        -0.00520727,  0.01009229, -0.05151607,  0.14695033, -0.01184849,\n",
              "        -0.0201821 ,  0.06954837,  0.05053096,  0.15628642,  0.0453408 ,\n",
              "         0.01669827,  0.11748721,  0.00344606, -0.11214522, -0.02779544,\n",
              "         0.02743011,  0.08287463, -0.11768835, -0.00756919, -0.02358318,\n",
              "         0.00054729, -0.01990259, -0.0733711 , -0.09933297,  0.10988411,\n",
              "        -0.11404482, -0.09195647,  0.12443829,  0.07823136, -0.01320786,\n",
              "        -0.16278084,  0.04125199,  0.03320465,  0.06030405,  0.0731983 ,\n",
              "         0.00122935,  0.00308055, -0.05679848,  0.07668271, -0.1014118 ,\n",
              "         0.08253067, -0.0448598 ,  0.18873768,  0.00637573,  0.04539401,\n",
              "         0.10620893,  0.11685006,  0.13209176, -0.02670538,  0.03108044,\n",
              "         0.06465962,  0.03069806, -0.00072368, -0.15699188], dtype=float32),\n",
              " array([[ 2.61724275e-02,  1.64152443e-01, -2.09922902e-02,\n",
              "         -4.29365002e-02,  6.36838526e-02, -1.80529609e-01,\n",
              "          2.54246928e-02, -2.06263989e-01, -6.13547750e-02,\n",
              "          2.67055392e-01],\n",
              "        [ 1.69556096e-01, -2.37961277e-01, -2.06137910e-01,\n",
              "          1.93374559e-01, -2.49742284e-01,  3.31676286e-03,\n",
              "          2.19619393e-01, -1.57467261e-01,  6.75183833e-02,\n",
              "         -2.82662392e-01],\n",
              "        [-1.82253674e-01,  1.27069661e-02, -1.00459516e-01,\n",
              "          1.30056381e-01, -1.93361193e-01,  8.84604827e-02,\n",
              "          4.57255505e-02,  1.16777077e-01, -1.32403895e-01,\n",
              "          2.01274663e-01],\n",
              "        [ 1.43018663e-01,  4.69738916e-02,  9.24134776e-02,\n",
              "         -1.91506058e-01,  2.47368932e-01,  2.54997201e-02,\n",
              "         -2.82770574e-01, -1.61597803e-01, -1.72138795e-01,\n",
              "         -9.54674259e-02],\n",
              "        [ 1.38811860e-02, -1.11737072e-01,  1.23004131e-01,\n",
              "          1.81397557e-01,  7.92367458e-02, -2.37681866e-01,\n",
              "          3.24145928e-02, -2.45030727e-02, -4.95833568e-02,\n",
              "          3.12161535e-01],\n",
              "        [ 1.58547104e-04, -1.63080454e-01, -1.13746323e-01,\n",
              "         -1.67775586e-01,  1.66775584e-01, -7.68551379e-02,\n",
              "          1.30469337e-01, -7.64130950e-02,  1.47690639e-01,\n",
              "          1.09226540e-01],\n",
              "        [-1.50529906e-01, -1.11224078e-01,  9.66385826e-02,\n",
              "         -1.31564081e-01,  6.46044165e-02,  2.92511228e-02,\n",
              "         -9.62278172e-02,  2.98692226e-01,  5.32642938e-02,\n",
              "          1.56944282e-02],\n",
              "        [-4.07276303e-02,  2.04927817e-01,  4.53534611e-02,\n",
              "         -2.60512501e-01,  1.53697297e-01,  2.43044779e-01,\n",
              "          1.91966429e-01, -1.49902642e-01,  2.03386113e-01,\n",
              "          1.02274880e-01],\n",
              "        [-1.83664605e-01,  1.04109138e-01, -2.04275936e-01,\n",
              "         -1.12073481e-01, -3.71106789e-02,  2.77727336e-01,\n",
              "          2.04760328e-01, -7.71312565e-02, -1.48433089e-01,\n",
              "         -1.72471762e-01],\n",
              "        [ 8.97829533e-02,  2.03150764e-01,  3.84187736e-02,\n",
              "          1.67999670e-01,  3.18175793e-01, -2.35799029e-01,\n",
              "          1.07090302e-01, -2.33247027e-01, -1.92323118e-01,\n",
              "          3.07095945e-01],\n",
              "        [ 5.59407026e-02,  3.43895145e-02,  2.34493867e-01,\n",
              "          1.02631330e-01, -1.68769732e-01, -1.01563307e-02,\n",
              "          1.12789925e-02, -9.85021964e-02,  5.95967509e-02,\n",
              "         -2.49006391e-01],\n",
              "        [ 1.05164923e-01, -6.68151230e-02,  1.69673800e-01,\n",
              "          2.79414684e-01,  1.67345047e-01, -1.54771850e-01,\n",
              "          1.08819418e-01, -1.46717265e-01, -2.32302353e-01,\n",
              "         -2.78505623e-01],\n",
              "        [ 1.28237411e-01,  1.80896476e-01, -1.05074652e-01,\n",
              "         -8.59547928e-02,  6.78897202e-02, -5.12499139e-02,\n",
              "          1.21061556e-01,  2.04001628e-02,  1.34437859e-01,\n",
              "         -1.11553371e-01],\n",
              "        [-1.63140997e-01, -2.52832472e-01,  4.45026048e-02,\n",
              "          7.19020888e-02,  2.01158375e-01, -2.36766502e-01,\n",
              "          7.22214207e-02,  1.65855840e-01,  7.83538818e-03,\n",
              "         -7.52699301e-02],\n",
              "        [-6.76504001e-02, -2.71482974e-01,  9.72855240e-02,\n",
              "         -1.87102854e-01, -9.64783356e-02,  4.82579041e-03,\n",
              "         -2.15880066e-01, -2.01352298e-01,  1.82270139e-01,\n",
              "         -1.19907156e-01],\n",
              "        [-2.36364737e-01,  1.49232596e-01, -7.54532916e-03,\n",
              "          3.21886569e-01, -1.25214368e-01,  1.14360586e-01,\n",
              "         -2.34571904e-01,  9.26965028e-02,  2.14711621e-01,\n",
              "         -2.31040075e-01],\n",
              "        [-2.34398082e-01,  8.89497027e-02,  1.69165224e-01,\n",
              "          4.96765189e-02,  1.04453355e-01,  2.26756603e-01,\n",
              "          1.61033168e-01,  2.12545827e-01, -1.66712403e-02,\n",
              "         -1.58933356e-01],\n",
              "        [ 1.35441616e-01,  6.59563988e-02, -6.04634546e-02,\n",
              "          1.76477700e-01,  7.18399063e-02,  1.98053300e-01,\n",
              "         -2.05893829e-01, -2.84979999e-01,  6.97880015e-02,\n",
              "         -6.85985833e-02],\n",
              "        [-9.48309153e-02,  2.44186819e-01,  2.40319476e-01,\n",
              "          2.17306986e-01,  2.15442061e-01,  1.63006470e-01,\n",
              "          1.12706060e-02, -1.96449131e-01,  2.56244868e-01,\n",
              "          2.95661800e-02],\n",
              "        [ 4.56299111e-02, -1.32653154e-02, -2.28620246e-01,\n",
              "          2.24005133e-01,  1.72677264e-01,  8.68019164e-02,\n",
              "          2.75384158e-01, -1.71984285e-01, -5.54807037e-02,\n",
              "          1.10061847e-01],\n",
              "        [-1.37061283e-01,  3.57215479e-02,  1.80448934e-01,\n",
              "         -1.71977058e-01,  2.51155049e-01, -1.33486211e-01,\n",
              "         -2.50469983e-01, -1.52000353e-01, -2.65832126e-01,\n",
              "          2.93244094e-01],\n",
              "        [-1.16107789e-04, -9.12738070e-02,  9.82646123e-02,\n",
              "         -2.74024546e-01,  2.57345527e-01, -2.29429096e-01,\n",
              "          3.83476429e-02,  1.83419749e-01,  1.20886289e-01,\n",
              "         -1.61867589e-01],\n",
              "        [-7.96629712e-02, -1.05660796e-01,  2.50879169e-01,\n",
              "          2.24723414e-01,  1.45921424e-01,  1.67707846e-01,\n",
              "          2.49531299e-01, -4.61920798e-02, -2.52512038e-01,\n",
              "         -4.90672467e-03],\n",
              "        [-6.86650798e-02,  2.22979024e-01, -1.00414410e-01,\n",
              "         -2.60840297e-01,  1.18405417e-01,  2.22588748e-01,\n",
              "          1.46248251e-01, -2.67601281e-01, -2.41389140e-01,\n",
              "         -9.31316838e-02],\n",
              "        [ 1.94912210e-01,  2.24027541e-02,  1.33309543e-01,\n",
              "          1.81593657e-01, -3.30992900e-02,  1.35612905e-01,\n",
              "          1.17312465e-02,  7.54032359e-02,  1.55950531e-01,\n",
              "         -1.52505906e-02],\n",
              "        [ 4.50659893e-04, -2.86322951e-01,  1.19144410e-01,\n",
              "          2.99439654e-02,  6.20619468e-02, -1.07339462e-02,\n",
              "          7.21429661e-02, -2.61776954e-01, -3.80837619e-02,\n",
              "         -3.36706713e-02],\n",
              "        [-1.65374994e-01, -2.16042161e-01,  2.01890051e-01,\n",
              "          2.01858193e-01, -1.21436313e-01, -2.43831009e-01,\n",
              "          1.50231421e-02, -8.86941776e-02, -1.25801757e-01,\n",
              "         -4.80303131e-02],\n",
              "        [ 1.28359944e-01, -2.14562297e-01, -2.02246830e-01,\n",
              "         -1.47576854e-01,  5.26414020e-04, -2.42064870e-03,\n",
              "          1.59939706e-01, -1.42685130e-01, -2.33450934e-01,\n",
              "         -9.40478966e-02],\n",
              "        [ 5.11155203e-02,  5.17268144e-02, -1.09382384e-01,\n",
              "          2.30243772e-01, -1.21767417e-01, -1.98314190e-01,\n",
              "         -4.58291406e-03,  2.28054315e-01, -3.31916548e-02,\n",
              "          1.70132026e-01],\n",
              "        [-7.53899589e-02, -1.38628617e-01,  1.88909128e-01,\n",
              "          2.23301813e-01, -1.50962740e-01, -2.54343390e-01,\n",
              "          2.63281334e-02, -2.07049951e-01, -1.17004886e-01,\n",
              "          5.84256686e-02],\n",
              "        [ 3.79274692e-03, -1.24780633e-01, -2.96190500e-01,\n",
              "         -2.98034787e-01,  1.65127635e-01, -1.23167515e-01,\n",
              "          1.98920041e-01, -2.66625732e-01,  5.86389527e-02,\n",
              "         -1.66718781e-01],\n",
              "        [ 2.10763887e-01, -2.23876014e-01, -4.05805977e-03,\n",
              "          1.71638370e-01,  1.79554641e-01,  4.36041392e-02,\n",
              "         -1.52876116e-02,  2.78786033e-01,  8.13281387e-02,\n",
              "         -1.62592366e-01],\n",
              "        [ 1.54097006e-02,  2.89060354e-01, -2.23867953e-01,\n",
              "         -1.41094312e-01,  2.42445931e-01, -7.05266744e-02,\n",
              "         -1.99755039e-02,  4.28449139e-02,  2.39920646e-01,\n",
              "          1.94813788e-01],\n",
              "        [-9.20770690e-02,  8.18847939e-02,  8.73773843e-02,\n",
              "          1.61919772e-04,  5.65950088e-02,  1.87910974e-01,\n",
              "          2.84935355e-01, -1.56309232e-01, -9.00239963e-03,\n",
              "          6.49980754e-02],\n",
              "        [-1.74940974e-02, -1.97994635e-01,  1.68480307e-01,\n",
              "          1.92721888e-01, -1.23146728e-01,  6.21845946e-03,\n",
              "          2.07044423e-01, -4.70418893e-02,  6.16563717e-04,\n",
              "          2.08748609e-01],\n",
              "        [-1.82518333e-01, -1.10888653e-01,  1.22964494e-01,\n",
              "         -2.87755355e-02,  1.13104053e-01, -1.86984852e-01,\n",
              "         -1.16493434e-01,  8.85288194e-02, -2.07178801e-01,\n",
              "          4.56144586e-02],\n",
              "        [ 9.60323587e-02,  1.92347348e-01, -1.32751003e-01,\n",
              "          5.56983389e-02,  1.16741404e-01,  6.62412643e-02,\n",
              "         -2.19748050e-01, -2.69275337e-01, -1.78775698e-01,\n",
              "          2.44805794e-02],\n",
              "        [-1.52061135e-01, -1.66144557e-02, -2.35864282e-01,\n",
              "         -2.59402484e-01, -2.58435994e-01, -7.08416551e-02,\n",
              "          2.36711219e-01,  8.92783888e-03, -1.82369724e-01,\n",
              "         -1.53254986e-01],\n",
              "        [-9.55096632e-02, -2.37951517e-01,  1.00788236e-01,\n",
              "          1.20683841e-01,  6.37885854e-02,  1.48294047e-01,\n",
              "          5.38513362e-02, -1.86699674e-01, -2.70098262e-02,\n",
              "         -1.54678687e-01],\n",
              "        [ 3.71366367e-03,  1.02002677e-02, -6.57314509e-02,\n",
              "          1.15836129e-01, -4.49338965e-02, -2.21917182e-02,\n",
              "         -1.86588839e-02,  2.33846888e-01, -6.39060587e-02,\n",
              "         -7.55122900e-02],\n",
              "        [-4.48934920e-02,  1.45607591e-01, -2.50135303e-01,\n",
              "          4.82130563e-03,  2.51738697e-01, -2.14741156e-01,\n",
              "         -1.11945838e-01,  1.11829832e-01,  5.83271757e-02,\n",
              "         -9.54910219e-02],\n",
              "        [-2.00687572e-01, -3.47055420e-02, -1.75913796e-01,\n",
              "          7.66244680e-02, -1.96572095e-01, -1.51775420e-01,\n",
              "          1.11881606e-01, -1.07755335e-02,  1.53579414e-01,\n",
              "          2.43664365e-02],\n",
              "        [-5.81347607e-02, -1.07999280e-01, -1.31341994e-01,\n",
              "          2.09371015e-01,  9.24237445e-02,  1.67231917e-01,\n",
              "         -9.15860236e-02,  2.72937790e-02,  1.44758284e-01,\n",
              "         -3.33517045e-03],\n",
              "        [ 1.62921220e-01, -2.53072113e-01, -2.78160363e-01,\n",
              "          6.50270730e-02, -2.42822871e-01, -2.48553544e-01,\n",
              "         -2.38382474e-01,  5.47911450e-02,  1.29069120e-01,\n",
              "         -1.76192641e-01],\n",
              "        [ 1.58106327e-01, -3.77028398e-02,  1.47207037e-01,\n",
              "          1.93066642e-01,  1.44209832e-01, -1.47029310e-01,\n",
              "          1.75806388e-01, -2.32594623e-03,  1.37942955e-01,\n",
              "          1.98401716e-02],\n",
              "        [ 1.45618945e-01,  1.13235913e-01,  2.51203507e-01,\n",
              "          1.78122655e-01,  4.04709540e-02, -1.91935748e-01,\n",
              "         -1.01994619e-01, -5.44443019e-02, -8.15678090e-02,\n",
              "          5.31303398e-02],\n",
              "        [ 2.56384790e-01,  2.22857043e-01,  2.58832932e-01,\n",
              "          3.00226305e-02, -8.53799004e-03, -7.28811463e-03,\n",
              "          1.67669490e-01, -9.93686020e-02, -9.26745012e-02,\n",
              "          1.68354273e-01],\n",
              "        [ 1.94034234e-01,  1.17730545e-02,  8.39135572e-02,\n",
              "         -1.08633943e-01, -1.45879671e-01,  2.72963673e-01,\n",
              "          2.10607544e-01, -1.42687708e-01, -1.02203585e-01,\n",
              "         -1.37754092e-02],\n",
              "        [ 1.95340425e-01, -2.87148774e-01,  2.34041020e-01,\n",
              "         -2.63776839e-01,  2.73522079e-01,  1.14095546e-01,\n",
              "          1.90226734e-01, -6.13989402e-03,  1.03445463e-01,\n",
              "         -2.36698955e-01],\n",
              "        [-7.45434198e-04,  3.26225720e-02, -2.52364147e-02,\n",
              "         -2.31852084e-01, -2.06714109e-01, -3.20424169e-01,\n",
              "          4.36191633e-02,  2.25011706e-01,  3.18936892e-02,\n",
              "          1.52525768e-01],\n",
              "        [-5.01753166e-02,  6.11013211e-02,  6.16947189e-02,\n",
              "         -1.35096058e-01,  2.27347314e-01,  2.19503958e-02,\n",
              "          1.15742601e-01, -1.66933805e-01, -6.04829676e-02,\n",
              "         -1.10853076e-01],\n",
              "        [-1.02269590e-01,  1.57580957e-01,  3.01048849e-02,\n",
              "          2.02926949e-01, -1.30905345e-01,  1.73606917e-01,\n",
              "         -2.45326325e-01, -1.32664159e-01, -8.15294236e-02,\n",
              "         -8.98581073e-02],\n",
              "        [ 1.83294713e-01,  2.05317840e-01, -1.03671648e-01,\n",
              "         -5.70094176e-02, -2.43450671e-01,  2.91663826e-01,\n",
              "         -1.67986780e-01,  9.01447050e-03, -9.40317363e-02,\n",
              "          2.91865468e-01],\n",
              "        [ 5.18313088e-02, -2.31414258e-01, -2.08695024e-01,\n",
              "         -3.75107713e-02, -2.04508469e-01,  4.51140516e-02,\n",
              "          1.57902956e-01, -8.31859484e-02,  1.24591157e-01,\n",
              "          6.57263175e-02],\n",
              "        [ 9.99830291e-02,  1.65297672e-01, -1.51294231e-01,\n",
              "          4.25966904e-02,  1.93842109e-02, -7.32341548e-03,\n",
              "         -2.12690234e-01, -8.98589045e-02,  2.32082278e-01,\n",
              "         -4.60752212e-02],\n",
              "        [ 1.19643621e-01,  9.21670794e-02, -3.03614676e-01,\n",
              "         -1.68100297e-01,  2.78726548e-01, -1.60652906e-01,\n",
              "          1.60815433e-01, -2.52616615e-03, -9.39937681e-02,\n",
              "          1.29757315e-01],\n",
              "        [-2.83089787e-01,  1.63248569e-01, -5.00226282e-02,\n",
              "          1.79056495e-01, -2.18100492e-02,  2.37416059e-01,\n",
              "          1.77692905e-01, -2.57109523e-01,  3.04795168e-02,\n",
              "         -1.28704429e-01],\n",
              "        [ 1.41904265e-01,  7.54731894e-02, -1.86200246e-01,\n",
              "          1.80893481e-01, -2.03988910e-01,  2.35913873e-01,\n",
              "         -1.57925069e-01,  7.15687349e-02,  6.02149665e-02,\n",
              "          1.80116609e-01],\n",
              "        [-3.43426466e-02, -1.22676000e-01,  1.18551478e-01,\n",
              "         -1.08088180e-01,  1.31888852e-01, -1.81779355e-01,\n",
              "         -1.62725553e-01, -9.67753585e-03, -2.07875133e-01,\n",
              "         -2.65331626e-01],\n",
              "        [ 2.16533825e-01,  9.36782509e-02, -2.77005225e-01,\n",
              "         -2.79336303e-01,  1.26701891e-01,  2.48727173e-01,\n",
              "          6.47130907e-02, -2.87586778e-01, -2.48251736e-01,\n",
              "          1.30216599e-01],\n",
              "        [ 2.28592083e-01, -2.09677234e-01,  2.45373935e-01,\n",
              "         -2.63167948e-01, -2.97176167e-02, -2.55333275e-01,\n",
              "         -2.75067747e-01,  2.17037499e-01,  8.28427151e-02,\n",
              "         -1.46281673e-02],\n",
              "        [-2.23656684e-01, -1.52826652e-01,  2.19070509e-01,\n",
              "          1.56447381e-01,  1.69387206e-01,  1.59655258e-01,\n",
              "          1.43372908e-01,  2.11560741e-01,  3.06025296e-02,\n",
              "          3.25141102e-01],\n",
              "        [-2.43528068e-01,  2.67201513e-01,  2.86590427e-01,\n",
              "          1.28069147e-01, -1.60611700e-02, -1.76445395e-02,\n",
              "         -1.05511390e-01,  1.34804830e-01, -2.62673259e-01,\n",
              "          1.75093099e-01],\n",
              "        [ 1.53600663e-01,  1.14431545e-01,  1.04512699e-01,\n",
              "         -1.65311188e-01, -2.65974671e-01,  3.83478478e-02,\n",
              "         -1.54298037e-01, -3.94613519e-02,  1.05795125e-02,\n",
              "          1.28651828e-01]], dtype=float32),\n",
              " array([ 0.03867649,  0.03933072,  0.03717229,  0.03876221, -0.03374697,\n",
              "        -0.0341811 ,  0.03796841,  0.03942995, -0.03924139, -0.03937595],\n",
              "       dtype=float32),\n",
              " array([[ 0.55202514],\n",
              "        [ 0.6009872 ],\n",
              "        [ 0.44008353],\n",
              "        [ 0.42190868],\n",
              "        [ 0.00813508],\n",
              "        [-0.03448566],\n",
              "        [ 0.3325097 ],\n",
              "        [ 0.62649345],\n",
              "        [-0.61353546],\n",
              "        [-0.33519357]], dtype=float32),\n",
              " array([0.04445372], dtype=float32)]"
            ]
          },
          "metadata": {},
          "execution_count": 54
        }
      ]
    },
    {
      "cell_type": "code",
      "source": [
        "# get the history and show the epoch and  loss\n",
        "history.history"
      ],
      "metadata": {
        "collapsed": true,
        "id": "GD0_nQM_BA5x",
        "outputId": "966c8973-440c-44d4-ce78-4e1bbb61e44a",
        "colab": {
          "base_uri": "https://localhost:8080/"
        }
      },
      "execution_count": null,
      "outputs": [
        {
          "output_type": "execute_result",
          "data": {
            "text/plain": [
              "{'loss': [26.189359664916992,\n",
              "  12.053135871887207,\n",
              "  6.700930118560791,\n",
              "  4.876378536224365,\n",
              "  3.050546169281006,\n",
              "  3.0355467796325684,\n",
              "  2.6109354496002197,\n",
              "  2.547992467880249],\n",
              " 'mae': [26.189359664916992,\n",
              "  12.053135871887207,\n",
              "  6.700930118560791,\n",
              "  4.876378536224365,\n",
              "  3.050546169281006,\n",
              "  3.0355467796325684,\n",
              "  2.6109354496002197,\n",
              "  2.547992467880249]}"
            ]
          },
          "metadata": {},
          "execution_count": 68
        }
      ]
    },
    {
      "cell_type": "code",
      "source": [
        "x_range = range(8)\n",
        "plt.plot(x_range,history.history['loss'])\n",
        "plt.title('Loss vs Epoch')\n",
        "plt.xlabel('Epoch')\n",
        "plt.ylabel('Loss')\n",
        "plt.show()"
      ],
      "metadata": {
        "id": "BW7YMxL0BWgg",
        "outputId": "c456c6a1-6420-47fc-d752-fe21a053e838",
        "colab": {
          "base_uri": "https://localhost:8080/",
          "height": 472
        }
      },
      "execution_count": null,
      "outputs": [
        {
          "output_type": "display_data",
          "data": {
            "text/plain": [
              "<Figure size 640x480 with 1 Axes>"
            ],
            "image/png": "[encoded data removed]"
          },
          "metadata": {}
        }
      ]
    },
    {
      "cell_type": "code",
      "source": [],
      "metadata": {
        "id": "5Ui_U5ASCJpM"
      },
      "execution_count": null,
      "outputs": []
    }
  ]
}